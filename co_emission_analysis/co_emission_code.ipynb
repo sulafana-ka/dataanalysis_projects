{
 "cells": [
  {
   "cell_type": "code",
   "execution_count": 9,
   "id": "76bfd1ce-9dba-4a78-93c3-5b69d0985209",
   "metadata": {},
   "outputs": [
    {
     "name": "stdout",
     "output_type": "stream",
     "text": [
      "Step 1: Data Loaded Successfully.\n"
     ]
    }
   ],
   "source": [
    "import pandas as pd\n",
    "import numpy as np\n",
    "\n",
    "# --- 1. Load Data ---\n",
    "# Load all three datasets. Note the special delimiter for the GDP file.\n",
    "df_emissions = pd.read_csv(\"co-emissions-by-sector.csv\")\n",
    "df_pop = pd.read_csv(\"world_population.csv\")\n",
    "\n",
    "print(\"Step 1: Data Loaded Successfully.\")"
   ]
  },
  {
   "cell_type": "code",
   "execution_count": 11,
   "id": "529ce346-2e98-43f8-b06f-a65ee6023c2e",
   "metadata": {},
   "outputs": [
    {
     "name": "stdout",
     "output_type": "stream",
     "text": [
      "Step 2: Data cleaned Successfully.\n"
     ]
    }
   ],
   "source": [
    "# --- 2. PREPARE EMISSIONS DATA (Calculate Total Emissions) ---\n",
    "\n",
    "# Identify all columns that represent a sector's CO2 emission\n",
    "emission_cols = [col for col in df_emissions.columns if 'emissions from' in col]\n",
    "\n",
    "# Sum all sector columns row-wise to get the total\n",
    "df_emissions['Total Emissions'] = df_emissions[emission_cols].sum(axis=1)\n",
    "\n",
    "# Cleaned emissions columns (excluding Fugitive, as it contains many NaNs)\n",
    "clean_emission_cols = [\n",
    "    'Carbon dioxide emissions from buildings',\n",
    "    'Carbon dioxide emissions from industry',\n",
    "    'Carbon dioxide emissions from land use change and forestry',\n",
    "    'Carbon dioxide emissions from other fuel combustion',\n",
    "    'Carbon dioxide emissions from transport',\n",
    "    'Carbon dioxide emissions from manufacturing and construction',\n",
    "    'Carbon dioxide emissions from electricity and heat',\n",
    "    'Carbon dioxide emissions from bunker fuels'\n",
    "]\n",
    "df_emissions_clean = df_emissions[['Entity', 'Year', 'Code', 'Total Emissions'] + clean_emission_cols].copy()\n",
    "print(\"Step 2: Data cleaned Successfully.\")"
   ]
  },
  {
   "cell_type": "code",
   "execution_count": 12,
   "id": "c37009d9-62ed-4b19-a878-482693695092",
   "metadata": {},
   "outputs": [
    {
     "name": "stdout",
     "output_type": "stream",
     "text": [
      "Step 3: Population Data Reshaped and Cleaned.\n"
     ]
    }
   ],
   "source": [
    "# 3. PREPARE POPULATION DATA (Unpivot and Clean) ---\n",
    "\n",
    "\n",
    "# Identify all 'YYYY Population' columns to be unpivoted\n",
    "pop_cols_to_melt = [col for col in df_pop.columns if 'Population' in col and col != 'World Population Percentage']\n",
    "\n",
    "# Reshape the data from WIDE (years as columns) to LONG (Year and Population columns)\n",
    "df_pop_long = pd.melt(\n",
    "    df_pop,\n",
    "    id_vars=['Country/Territory'], # The column to keep fixed\n",
    "    value_vars=pop_cols_to_melt,\n",
    "    var_name='Year',\n",
    "    value_name='Population'\n",
    ")\n",
    "\n",
    "# Clean Columns for Merging\n",
    "#\n",
    "df_pop_long.rename(columns={'Country/Territory': 'Entity'}, inplace=True)\n",
    "# Extract the year number and convert to integer for proper merging\n",
    "df_pop_long['Year'] = df_pop_long['Year'].str.replace(' Population', '').astype(int)\n",
    "print(\"Step 3: Population Data Reshaped and Cleaned.\")\n",
    "\n"
   ]
  },
  {
   "cell_type": "code",
   "execution_count": 14,
   "id": "010a4add-257d-431c-b032-d2fd2a11771d",
   "metadata": {},
   "outputs": [
    {
     "name": "stdout",
     "output_type": "stream",
     "text": [
      "Step 4: merge succesfully\n"
     ]
    }
   ],
   "source": [
    "# --- 4. MERGE DATAFRAMES AND CALCULATE FINAL METRIC ---\n",
    "# We still need a minimal mapping to catch major mismatches between emissions and population files\n",
    "pop_name_map = {\n",
    "    'Egypt, Arab Rep.': 'Egypt',\n",
    "    'Russian Federation': 'Russia',\n",
    "    'Korea, Rep.': 'South Korea',\n",
    "    'Iran, Islamic Rep.': 'Iran',\n",
    "    'Congo, Dem. Rep.': 'Democratic Republic of Congo',\n",
    "    'Yemen, Rep.': 'Yemen'\n",
    "}\n",
    "df_pop_long['Entity'] = df_pop_long['Entity'].replace(pop_name_map)\n",
    "\n",
    "\n",
    "df_final = df_emissions_clean.merge(\n",
    "    df_pop_long[['Entity', 'Year', 'Population']],\n",
    "    on=['Entity', 'Year'],\n",
    "    how='left'\n",
    ")\n",
    "\n",
    "# Replace zero population values with NaN to avoid division errors\n",
    "df_final['Population'] = df_final['Population'].replace(0, np.nan)\n",
    "\n",
    "# Calculate the single required metric\n",
    "df_final['Emissions per Capita'] = df_final['Total Emissions'] / df_final['Population']\n",
    "print(\"Step 4: merge succesfully\")\n"
   ]
  },
  {
   "cell_type": "code",
   "execution_count": 16,
   "id": "7ba3d427-c230-4e18-a4bb-4ed131d9b8e1",
   "metadata": {},
   "outputs": [
    {
     "name": "stdout",
     "output_type": "stream",
     "text": [
      "Data preparation complete . File saved as 'final_dashboard_data.csv'.\n"
     ]
    }
   ],
   "source": [
    "# --- 5. FINAL SAVE ---\n",
    "df_final = df_final[df_final['Total Emissions'] > 0]\n",
    "final_file_name = 'final_dashboard_data.csv'\n",
    "df_final.to_csv(final_file_name, index=False)\n",
    "\n",
    "print(f\"Data preparation complete . File saved as '{final_file_name}'.\")"
   ]
  },
  {
   "cell_type": "code",
   "execution_count": null,
   "id": "da0c90bc-5cbd-4e9b-b521-0d4d2e81a28e",
   "metadata": {},
   "outputs": [],
   "source": []
  }
 ],
 "metadata": {
  "kernelspec": {
   "display_name": "Python 3 (ipykernel)",
   "language": "python",
   "name": "python3"
  },
  "language_info": {
   "codemirror_mode": {
    "name": "ipython",
    "version": 3
   },
   "file_extension": ".py",
   "mimetype": "text/x-python",
   "name": "python",
   "nbconvert_exporter": "python",
   "pygments_lexer": "ipython3",
   "version": "3.13.3"
  }
 },
 "nbformat": 4,
 "nbformat_minor": 5
}
